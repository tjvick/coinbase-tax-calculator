{
 "cells": [
  {
   "cell_type": "markdown",
   "id": "74c4a5f5-b653-4302-9954-62c5d08f07e9",
   "metadata": {},
   "source": [
    "# Calculator Development Notebook\n",
    "\n",
    "This notebook was used to develop some of the core calculator logic.  Because notebooks are better for interacting w/ Pandas data frames than python scripts.\n",
    "\n",
    "It has since been rewritten and incorporated into `calculate_taxes.py`"
   ]
  },
  {
   "cell_type": "code",
   "execution_count": null,
   "id": "1ca0eb00-88b9-476d-b517-f9828ec7225d",
   "metadata": {},
   "outputs": [],
   "source": [
    "import pandas as pd\n",
    "from dataclasses import dataclass\n",
    "from datetime import datetime\n",
    "\n",
    "pd.set_option('display.max_rows', None)"
   ]
  },
  {
   "cell_type": "markdown",
   "id": "863e2bc3-0417-440b-a8ce-1d22adfa1d08",
   "metadata": {},
   "source": [
    "# Read CSV"
   ]
  },
  {
   "cell_type": "code",
   "execution_count": null,
   "id": "b299a548-3091-4f3e-82c6-bfd75a43c47d",
   "metadata": {},
   "outputs": [],
   "source": [
    "raw_transactions = pd.read_csv('coinbase_pro_transactions.csv')"
   ]
  },
  {
   "cell_type": "code",
   "execution_count": null,
   "id": "d1e107c3-d37a-4bcb-a87d-0260f7b43686",
   "metadata": {},
   "outputs": [],
   "source": [
    "raw_transactions"
   ]
  },
  {
   "cell_type": "markdown",
   "id": "cd8a97da-eb04-4bbc-9201-5fa28b966e71",
   "metadata": {},
   "source": [
    "# Summarize single orders into single transactions"
   ]
  },
  {
   "cell_type": "code",
   "execution_count": null,
   "id": "ab7b7d99-bc0c-4d5c-857f-53f4bc6c1100",
   "metadata": {},
   "outputs": [],
   "source": [
    "buy_sells = raw_transactions[\n",
    "    (raw_transactions['order id'].isnull() == False) &\n",
    "    (raw_transactions['type'] == 'match')\n",
    "]"
   ]
  },
  {
   "cell_type": "code",
   "execution_count": null,
   "id": "ac457795-0b25-48f0-b338-93560717fa8b",
   "metadata": {},
   "outputs": [],
   "source": [
    "buy_sells.info()"
   ]
  },
  {
   "cell_type": "markdown",
   "id": "aa2dd44a-c346-4b2f-a931-48af5de7d52d",
   "metadata": {},
   "source": [
    "## order_id | date | type (buy or sell) | currency | quantity | usd_amount"
   ]
  },
  {
   "cell_type": "code",
   "execution_count": null,
   "id": "50cfd272-6644-4703-af6d-7f6cdbbf28be",
   "metadata": {},
   "outputs": [],
   "source": [
    "@dataclass\n",
    "class Transaction:\n",
    "    order_id: str\n",
    "    date: datetime\n",
    "    usd_amount: float\n",
    "    order_type: str\n",
    "    currency: str\n",
    "    currency_quantity: float\n",
    "    \n",
    "def transaction_from_group(name, group):    \n",
    "    usd_amount = group[group['amount/balance unit'] == 'USD'].amount.sum()\n",
    "    return Transaction(\n",
    "        order_id=name,\n",
    "        date=group.time.min(), \n",
    "        usd_amount=usd_amount,\n",
    "        order_type='buy' if usd_amount < 0 else 'sell',\n",
    "        currency=group[group['amount/balance unit'] != 'USD']['amount/balance unit'].min(),\n",
    "        currency_quantity = group[group['amount/balance unit'] != 'USD'].amount.sum()\n",
    "    )"
   ]
  },
  {
   "cell_type": "code",
   "execution_count": null,
   "id": "b28d875b-1d59-4b87-938b-6793d24e4fe5",
   "metadata": {},
   "outputs": [],
   "source": [
    "order_id_groups = buy_sells.groupby('order id', sort=False)\n",
    "\n",
    "transactions = pd.DataFrame(transaction_from_group(name, group) for name, group in order_id_groups)"
   ]
  },
  {
   "cell_type": "markdown",
   "id": "083cf082-0401-4d97-a4de-376537ff9e19",
   "metadata": {},
   "source": [
    "# Process each transaction in order"
   ]
  },
  {
   "cell_type": "code",
   "execution_count": null,
   "id": "7e19afdf-5870-4c0d-a3b7-a10f7891ff25",
   "metadata": {},
   "outputs": [],
   "source": [
    "@dataclass\n",
    "class Position:\n",
    "    currency: str\n",
    "    purchase_date: datetime\n",
    "    currency_quantity: float\n",
    "    cost_basis: float\n",
    "    sell_date: datetime = None\n",
    "    proceeds: float = 0\n",
    "    closed: bool = False\n",
    "\n",
    "Position.__annotations__\n",
    "    "
   ]
  },
  {
   "cell_type": "code",
   "execution_count": null,
   "id": "ae93d294-2b27-4b70-9c64-281dfcc035d6",
   "metadata": {
    "tags": []
   },
   "outputs": [],
   "source": [
    "positions = pd.DataFrame(columns=Position.__annotations__.keys())\n",
    "\n",
    "for ix, tx in transactions.iterrows():\n",
    "    if tx.order_type == 'buy':\n",
    "        new_position = Position(\n",
    "            currency=tx.currency,\n",
    "            purchase_date=tx.date,\n",
    "            cost_basis=-tx.usd_amount,\n",
    "            currency_quantity=tx.currency_quantity\n",
    "        )\n",
    "        positions = pd.concat([positions, pd.DataFrame([new_position])], ignore_index=True)\n",
    "    else:\n",
    "        open_orders_for_currency = positions[(positions['currency'] == tx.currency) & (positions['closed'] == False)]\n",
    "        unsold_quantity = tx.currency_quantity\n",
    "        for ix, open_position in open_orders_for_currency.iterrows():\n",
    "            if open_position.currency_quantity + unsold_quantity == 0:\n",
    "                positions.loc[ix]['closed'] = True\n",
    "                positions.loc[ix]['proceeds'] = tx.usd_amount\n",
    "                positions.loc[ix]['sell_date'] = tx.date\n",
    "                unsold_quantity = 0\n",
    "            elif open_position.currency_quantity + unsold_quantity > 0:\n",
    "                positions.loc[ix]['closed'] = True\n",
    "                positions.loc[ix]['proceeds'] = tx.usd_amount\n",
    "                positions.loc[ix]['sell_date'] = tx.date\n",
    "                positions.loc[ix]['cost_basis'] = open_position.cost_basis * -unsold_quantity / open_position.currency_quantity\n",
    "                positions.loc[ix]['currency_quantity'] = -unsold_quantity\n",
    "                new_position = Position(\n",
    "                    currency=open_position.currency,\n",
    "                    purchase_date=open_position.purchase_date,\n",
    "                    cost_basis=open_position.cost_basis - positions.loc[ix]['cost_basis'],\n",
    "                    currency_quantity=open_position.currency_quantity + unsold_quantity\n",
    "                )\n",
    "                positions = pd.concat([positions, pd.DataFrame([new_position])], ignore_index=True).sort_values(by=\"purchase_date\")\n",
    "                unsold_quantity = 0\n",
    "            elif open_position.currency_quantity + unsold_quantity < 0:\n",
    "                positions.loc[ix]['closed'] = True\n",
    "                positions.loc[ix]['proceeds'] = tx.usd_amount * open_position.currency_quantity / -tx.currency_quantity\n",
    "                positions.loc[ix]['sell_date'] = tx.date\n",
    "                unsold_quantity += open_position.currency_quantity\n",
    "                \n",
    "            if unsold_quantity == 0:\n",
    "                break\n",
    "                \n",
    "    \n",
    "positions"
   ]
  },
  {
   "cell_type": "code",
   "execution_count": null,
   "id": "273ff54c-a9e0-460c-afdf-38724c9e7c9e",
   "metadata": {},
   "outputs": [],
   "source": [
    "total_cost_basis = positions[positions['closed'] == True]['cost_basis'].sum()\n",
    "total_proceeds = positions[positions['closed'] == True]['proceeds'].sum()\n",
    "\n",
    "print(\"TOTAL COST BASIS:\", total_cost_basis)\n",
    "print(\"TOTAL PROCEEDS:\", total_proceeds)"
   ]
  }
 ],
 "metadata": {
  "kernelspec": {
   "display_name": "Python 3 (ipykernel)",
   "language": "python",
   "name": "python3"
  },
  "language_info": {
   "codemirror_mode": {
    "name": "ipython",
    "version": 3
   },
   "file_extension": ".py",
   "mimetype": "text/x-python",
   "name": "python",
   "nbconvert_exporter": "python",
   "pygments_lexer": "ipython3",
   "version": "3.10.0"
  }
 },
 "nbformat": 4,
 "nbformat_minor": 5
}
